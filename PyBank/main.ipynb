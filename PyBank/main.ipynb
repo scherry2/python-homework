{
 "cells": [
  {
   "cell_type": "code",
   "execution_count": null,
   "metadata": {},
   "outputs": [],
   "source": [
    "#Steven Cherry II\n",
    "\n",
    "'''\n",
    "\n",
    "\n",
    "1. from pathlib import Path so I can read the csv file\n",
    "2. set the path for the csv file.\n",
    "3. make new list store data for months and profits. Intitalize the varables total_months, total_profits, value, and change.\n",
    "4. open the csv file\n",
    "5. Calculcate the number of months in months.\n",
    "6. Calculate the net total amount of Profit/Losses over the entire period in the list [profit]. \n",
    "7. Calculate the average of the changes in profits\n",
    "8. iterate through the data and search for the greatest increase in profits (date and amount) over the entire period.\n",
    "9. iterate through the data and search for the greatest decrease in losses (date and amount) over the entire period.\n",
    "10. create a Financial_Analysis.txt file with the financial analysis.\n",
    "\n",
    "\n",
    "\n",
    "\n",
    "'''"
   ]
  },
  {
   "cell_type": "code",
   "execution_count": 12,
   "metadata": {},
   "outputs": [],
   "source": [
    "from pathlib import Path\n",
    "import csv\n",
    "\n",
    "#Creating an object out of the CSV file\n",
    "filepath =Path(\"../PyBank/budget_data.csv\")\n",
    "\n",
    "total_months = 0\n",
    "total_profits = 0\n",
    "first_value = 0\n",
    "change = 0\n",
    "months = []\n",
    "profits = []"
   ]
  },
  {
   "cell_type": "code",
   "execution_count": 13,
   "metadata": {},
   "outputs": [],
   "source": [
    "with open(filepath, newline = \"\") as file:\n",
    "    csv_file = csv.reader(file, delimiter = \",\")\n",
    "\n",
    "    \n",
    "    header = next(csv_file)\n",
    "\n",
    "    \n",
    "    first_row = next(csv_file)\n",
    "    total_months += 1\n",
    "    total_profits += int(first_row[1])\n",
    "    first_value = int(first_row[1])\n",
    "    for row in csv_file:\n",
    "        \n",
    "        months.append(row[0])\n",
    "        change = int(row[1])-first_value\n",
    "        profits.append(change)\n",
    "        first_value = int(row[1])\n",
    "        \n",
    "        \n",
    "        total_months += 1\n",
    "\n",
    "        total_profits = total_profits + int(row[1])"
   ]
  },
  {
   "cell_type": "code",
   "execution_count": 14,
   "metadata": {},
   "outputs": [],
   "source": [
    " \n",
    "greatest_increase = max(profits)\n",
    "greatest_index = profits.index(greatest_increase)\n",
    "greatest_month = months[greatest_index]\n",
    "\n",
    "    \n",
    "greatest_decrease = min(profits)\n",
    "less_index = profits.index(greatest_decrease)\n",
    "less_month = months[less_index]\n",
    "\n",
    "    \n",
    "average_change = sum(profits)/len(profits)\n",
    "    "
   ]
  },
  {
   "cell_type": "code",
   "execution_count": 15,
   "metadata": {},
   "outputs": [
    {
     "name": "stdout",
     "output_type": "stream",
     "text": [
      "Financial Analysis\n",
      "---------------------\n",
      "Total Months: 86\n",
      "Total: $38382578\n",
      "Average Change: $-2315.12\n",
      "Greatest Increase in Profits: Feb-2012 ($1926159)\n",
      "Greatest Decrease in Profits: Sep-2013 ($-2196167)\n"
     ]
    }
   ],
   "source": [
    "print(\"Financial Analysis\")\n",
    "print(\"---------------------\")\n",
    "print(f\"Total Months: {str(total_months)}\")\n",
    "print(f\"Total: ${str(total_profits)}\")\n",
    "print(f\"Average Change: ${str(round(average_change,2))}\")\n",
    "print(f\"Greatest Increase in Profits: {greatest_month} (${str(greatest_increase)})\")\n",
    "print(f\"Greatest Decrease in Profits: {less_month} (${str(greatest_decrease)})\")"
   ]
  },
  {
   "cell_type": "code",
   "execution_count": 16,
   "metadata": {},
   "outputs": [
    {
     "data": {
      "text/plain": [
       "202"
      ]
     },
     "execution_count": 16,
     "metadata": {},
     "output_type": "execute_result"
    }
   ],
   "source": [
    "output = open(\"Financial_Analysis.txt\", \"w\")\n",
    "\n",
    "line1 = \"Financial Analysis\"\n",
    "line2 = \"---------------------\"\n",
    "line3 = str(f\"Total Months: {str(total_months)}\")\n",
    "line4 = str(f\"Total: ${str(total_profits)}\")\n",
    "line5 = str(f\"Average Change: ${str(round(average_change,2))}\")\n",
    "line6 = str(f\"Greatest Increase in Profits: {greatest_month} (${str(greatest_increase)})\")\n",
    "line7 = (str(f\"Greatest Decrease in Profits: {less_month} (${str(greatest_decrease)})\"))\n",
    "output.write('{}\\n{}\\n{}\\n{}\\n{}\\n{}\\n{}\\n'.format(line1,line2,line3,line4,line5,line6,line7))"
   ]
  },
  {
   "cell_type": "code",
   "execution_count": 17,
   "metadata": {},
   "outputs": [
    {
     "data": {
      "text/plain": [
       "86"
      ]
     },
     "execution_count": 17,
     "metadata": {},
     "output_type": "execute_result"
    }
   ],
   "source": [
    "total_months"
   ]
  },
  {
   "cell_type": "code",
   "execution_count": 18,
   "metadata": {},
   "outputs": [
    {
     "data": {
      "text/plain": [
       "38382578"
      ]
     },
     "execution_count": 18,
     "metadata": {},
     "output_type": "execute_result"
    }
   ],
   "source": [
    "total_profits"
   ]
  },
  {
   "cell_type": "code",
   "execution_count": 19,
   "metadata": {},
   "outputs": [
    {
     "data": {
      "text/plain": [
       "671099"
      ]
     },
     "execution_count": 19,
     "metadata": {},
     "output_type": "execute_result"
    }
   ],
   "source": [
    "first_value"
   ]
  },
  {
   "cell_type": "code",
   "execution_count": null,
   "metadata": {},
   "outputs": [],
   "source": []
  }
 ],
 "metadata": {
  "kernelspec": {
   "display_name": "Python 3",
   "language": "python",
   "name": "python3"
  },
  "language_info": {
   "codemirror_mode": {
    "name": "ipython",
    "version": 3
   },
   "file_extension": ".py",
   "mimetype": "text/x-python",
   "name": "python",
   "nbconvert_exporter": "python",
   "pygments_lexer": "ipython3",
   "version": "3.7.6"
  }
 },
 "nbformat": 4,
 "nbformat_minor": 4
}
